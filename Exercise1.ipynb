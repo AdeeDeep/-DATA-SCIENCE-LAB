{
  "nbformat": 4,
  "nbformat_minor": 0,
  "metadata": {
    "colab": {
      "name": "Exercise1.ipynb",
      "provenance": [],
      "collapsed_sections": []
    },
    "kernelspec": {
      "name": "python3",
      "display_name": "Python 3"
    },
    "language_info": {
      "name": "python"
    }
  },
  "cells": [
    {
      "cell_type": "code",
      "execution_count": 4,
      "metadata": {
        "colab": {
          "base_uri": "https://localhost:8080/"
        },
        "id": "O3h3HmA2nGno",
        "outputId": "d44faaa3-54ee-4926-d76d-5dfff8e620d5"
      },
      "outputs": [
        {
          "output_type": "stream",
          "name": "stdout",
          "text": [
            "Original arrays:\n",
            "[3 7 6]\n",
            "[1 5 2]\n",
            "Comparison\n",
            "--------Greater--------\n",
            "[ True  True  True]\n",
            "--------Greater_equal--------\n",
            "[ True  True  True]\n",
            "--------Less--------\n",
            "[False False False]\n",
            "--------Less_equal--------\n",
            "[False False False]\n"
          ]
        }
      ],
      "source": [
        "#1.Write  a  NumPy  program  to  create  an  element-wise  comparison  (greater,  greater_equal,  less and less_equal) of two given arrays\n",
        "import numpy\n",
        "x = numpy.array([3, 7, 6])\n",
        "y = numpy.array([1, 5, 2])\n",
        "print(\"Original arrays:\")\n",
        "print(x)\n",
        "print(y)\n",
        "print(\"Comparison\")\n",
        "print(\"--------Greater--------\")\n",
        "print(numpy.greater(x, y))\n",
        "print(\"--------Greater_equal--------\")\n",
        "print(numpy.greater_equal(x, y))\n",
        "print(\"--------Less--------\")\n",
        "print(numpy.less(x, y))\n",
        "print(\"--------Less_equal--------\")\n",
        "print(numpy.less_equal(x, y))"
      ]
    },
    {
      "cell_type": "code",
      "source": [
        "#2.Write a NumPy program to create an array of all the even integers from 30 to 70\n",
        "\n",
        "import numpy\n",
        "arr=numpy.arange(30,71,2)\n",
        "print(\"Array of all even numbers from 30 to 70\")\n",
        "print(arr) "
      ],
      "metadata": {
        "colab": {
          "base_uri": "https://localhost:8080/"
        },
        "id": "oQxps5RipBKj",
        "outputId": "91ea47b4-4554-46e7-cbeb-70bff2845ac6"
      },
      "execution_count": 5,
      "outputs": [
        {
          "output_type": "stream",
          "name": "stdout",
          "text": [
            "Array of all even numbers from 30 to 70\n",
            "[30 32 34 36 38 40 42 44 46 48 50 52 54 56 58 60 62 64 66 68 70]\n"
          ]
        }
      ]
    },
    {
      "cell_type": "code",
      "source": [
        "#3.Write a NumPy program to create a 3x3 identity matrix.\n",
        "\n",
        "import numpy\n",
        "arr=numpy.identity(3)\n",
        "print(\"--------3x3 Matrix--------\")\n",
        "print(arr)"
      ],
      "metadata": {
        "colab": {
          "base_uri": "https://localhost:8080/"
        },
        "id": "-I_YRK3Rrl__",
        "outputId": "86c77b8d-f0a2-4be7-f125-badeff34f00e"
      },
      "execution_count": 6,
      "outputs": [
        {
          "output_type": "stream",
          "name": "stdout",
          "text": [
            "--------3x3 Matrix--------\n",
            "[[1. 0. 0.]\n",
            " [0. 1. 0.]\n",
            " [0. 0. 1.]]\n"
          ]
        }
      ]
    },
    {
      "cell_type": "code",
      "source": [
        "#4.Write  a  NumPy  program  to  create  a  vector  with  values from  0  to  20 and  change  the  sign  of the numbers in the range from 9 to 15\n",
        "\n",
        "import numpy\n",
        "arr=numpy.arange(21)\n",
        "print(\"Original Vector:\")\n",
        "print(arr)\n",
        "arr1=[i for i in arr if i<9]\n",
        "arr2=[-i for i in arr if i>=9 and i<=15]\n",
        "arr3=[i for i in arr if i>15]\n",
        "arr1.extend(arr2)\n",
        "arr1.extend(arr3)\n",
        "print(\"Modified Vector:\")\n",
        "print(arr1)"
      ],
      "metadata": {
        "colab": {
          "base_uri": "https://localhost:8080/"
        },
        "id": "FiZ4ckMSsko0",
        "outputId": "82b76bc6-0f12-44f7-91a1-da007015cacb"
      },
      "execution_count": 7,
      "outputs": [
        {
          "output_type": "stream",
          "name": "stdout",
          "text": [
            "Original Vector:\n",
            "[ 0  1  2  3  4  5  6  7  8  9 10 11 12 13 14 15 16 17 18 19 20]\n",
            "Modified Vector:\n",
            "[0, 1, 2, 3, 4, 5, 6, 7, 8, -9, -10, -11, -12, -13, -14, -15, 16, 17, 18, 19, 20]\n"
          ]
        }
      ]
    },
    {
      "cell_type": "code",
      "source": [
        "#5.Write  a  NumPy  program  to  create  a  5x5  zero  matrix  with  elements  on  the  main  diagonal equal to 1, 2, 3, 4, 5\n",
        "\n",
        "import numpy\n",
        "x = numpy.diag([1, 2, 3, 4, 5])\n",
        "print(x)"
      ],
      "metadata": {
        "colab": {
          "base_uri": "https://localhost:8080/"
        },
        "id": "p2U2o78ps1t9",
        "outputId": "f0175efc-9ff9-4795-f81e-7339deece70d"
      },
      "execution_count": 8,
      "outputs": [
        {
          "output_type": "stream",
          "name": "stdout",
          "text": [
            "[[1 0 0 0 0]\n",
            " [0 2 0 0 0]\n",
            " [0 0 3 0 0]\n",
            " [0 0 0 4 0]\n",
            " [0 0 0 0 5]]\n"
          ]
        }
      ]
    },
    {
      "cell_type": "code",
      "source": [
        "#6.Write  a  NumPy  program  to  compute  sum  of  all  elements,  sum  of  each  column  and  sum  of each row of a given array\n",
        "\n",
        "import numpy\n",
        "x = numpy.array([[15,24],[20,31]])\n",
        "print(\"-------Original array-------\")\n",
        "print(x)\n",
        "print(\"Sum of all elements:\")\n",
        "print(numpy.sum(x))\n",
        "print(\"Sum of each column:\")\n",
        "print(numpy.sum(x, axis=0))\n",
        "print(\"Sum of each row:\")\n",
        "print(numpy.sum(x, axis=1))\n"
      ],
      "metadata": {
        "colab": {
          "base_uri": "https://localhost:8080/"
        },
        "id": "8ZjA_ykFuD0V",
        "outputId": "a44e46f9-8546-4030-9ca0-12c0ef86e4f5"
      },
      "execution_count": 9,
      "outputs": [
        {
          "output_type": "stream",
          "name": "stdout",
          "text": [
            "-------Original array-------\n",
            "[[15 24]\n",
            " [20 31]]\n",
            "Sum of all elements:\n",
            "90\n",
            "Sum of each column:\n",
            "[35 55]\n",
            "Sum of each row:\n",
            "[39 51]\n"
          ]
        }
      ]
    },
    {
      "cell_type": "code",
      "source": [
        "#7.Write a NumPy program to save a given array to a text file and load it.\n",
        "\n",
        "import numpy\n",
        "arr=numpy.array([1,2,3,4])\n",
        "print(\"Original array:\")\n",
        "print(arr)\n",
        "numpy.savetxt(\"file2.txt\",arr)\n",
        "contents=numpy.loadtxt(\"file2.txt\")\n",
        "print(\"File contents:\")\n",
        "print(contents)"
      ],
      "metadata": {
        "colab": {
          "base_uri": "https://localhost:8080/"
        },
        "id": "guP-FN5KufaX",
        "outputId": "f3ed6746-194f-447e-f570-7108e5e459b3"
      },
      "execution_count": 21,
      "outputs": [
        {
          "output_type": "stream",
          "name": "stdout",
          "text": [
            "Original array:\n",
            "[1 2 3 4]\n",
            "File contents:\n",
            "[1. 2. 3. 4.]\n"
          ]
        }
      ]
    },
    {
      "cell_type": "code",
      "source": [
        "#8.Write a NumPy program to check whether two arrays are equal (element wise) or not\n",
        "\n",
        "import numpy\n",
        "arr1 = numpy.array([2,4,5,6])\n",
        "arr2 = numpy.array([8,4,5,9])\n",
        "print(\"Original arrays:\")\n",
        "print(arr1)\n",
        "print(arr2)\n",
        "print(\"\\nTwo arrays are equal (element wise) or not?\")\n",
        "print(arr1 == arr2)"
      ],
      "metadata": {
        "colab": {
          "base_uri": "https://localhost:8080/"
        },
        "id": "VWkmKOHEuhTB",
        "outputId": "5797ab59-5e37-4795-bb7b-606932e040da"
      },
      "execution_count": 20,
      "outputs": [
        {
          "output_type": "stream",
          "name": "stdout",
          "text": [
            "Original arrays:\n",
            "[2 4 5 6]\n",
            "[8 4 5 9]\n",
            "\n",
            "Two arrays are equal (element wise) or not?\n",
            "[False  True  True False]\n"
          ]
        }
      ]
    },
    {
      "cell_type": "code",
      "source": [
        "#9.Write  a  NumPy  program  to  create  a  4x4  array  with  random  values,  now  create  a  new  array from the said array swapping first and last rows.\n",
        "import numpy \n",
        "arr1 = numpy.arange(16).reshape(4, 4)\n",
        "print(\"Original array:\")\n",
        "print(arr1)\n",
        "print(\"\\n Array after swapping first and last rows:\")\n",
        "arr1[[0,3]]=arr1[[3,0]]\n",
        "print(arr1)"
      ],
      "metadata": {
        "colab": {
          "base_uri": "https://localhost:8080/"
        },
        "id": "U4kSH1C48jSQ",
        "outputId": "aefab9be-6072-46c2-d98a-d8d99759cd77"
      },
      "execution_count": 19,
      "outputs": [
        {
          "output_type": "stream",
          "name": "stdout",
          "text": [
            "Original array:\n",
            "[[ 0  1  2  3]\n",
            " [ 4  5  6  7]\n",
            " [ 8  9 10 11]\n",
            " [12 13 14 15]]\n",
            "\n",
            " Array after swapping first and last rows:\n",
            "[[12 13 14 15]\n",
            " [ 4  5  6  7]\n",
            " [ 8  9 10 11]\n",
            " [ 0  1  2  3]]\n"
          ]
        }
      ]
    },
    {
      "cell_type": "code",
      "source": [
        "#10.Write a NumPy program to multiply two given arrays of same size element-by-element.\n",
        "\n",
        "import numpy\n",
        "arr1 = numpy.array([[1, 2, 3],\n",
        "              [4, 5, 6]])\n",
        "arr2 = numpy.array([[5, 1, 4],\n",
        "              [2, 2, 1]])\n",
        "print(\"Array1:\") \n",
        "print(arr1)\n",
        "print(\"Array2:\") \n",
        "print(arr2)\n",
        "print(\"\\nMultiplying Array1 and Array2 element by element:\")\n",
        "print(numpy.multiply(arr1, arr2))"
      ],
      "metadata": {
        "colab": {
          "base_uri": "https://localhost:8080/"
        },
        "id": "OXZivi2Y9Ckg",
        "outputId": "f06497de-1e54-4313-977e-cbf66cf88eda"
      },
      "execution_count": 18,
      "outputs": [
        {
          "output_type": "stream",
          "name": "stdout",
          "text": [
            "Array1:\n",
            "[[1 2 3]\n",
            " [4 5 6]]\n",
            "Array2:\n",
            "[[5 1 4]\n",
            " [2 2 1]]\n",
            "\n",
            "Multiplying Array1 and Array2 element by element:\n",
            "[[ 5  2 12]\n",
            " [ 8 10  6]]\n"
          ]
        }
      ]
    }
  ]
}